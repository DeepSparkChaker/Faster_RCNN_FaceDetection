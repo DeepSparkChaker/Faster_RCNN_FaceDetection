{
 "cells": [
  {
   "cell_type": "markdown",
   "metadata": {},
   "source": [
    "# Assess model\n",
    "\u000f Evaluate result with respect to evaluation criteria.\n",
    "\n",
    "  Rank results with respect to success and evaluation criteria and select best models.\n",
    "  \n",
    "\u000f Interpret results in business terms. Get comments by domain experts.\n",
    "\n",
    "  Check plausibility of model.\n",
    "  \n",
    "Spend 26.71 mins to load the data\n",
    "\n",
    "Training images per class:\n",
    "\n",
    "{'face': 20336, 'bg': 0}\n",
    "\n",
    "Number of classes (including bg) = 2\n",
    "\n",
    "{'face': 0, 'bg': 1}\n",
    "\n",
    "Already trained 1 batches\n",
    "\n",
    "Epoch 2/2\n",
    "\n",
    "  1/240 [..............................] - ETA: 4:36:52 - rpn_cls: 6.4183 - rpn_regr: 0.0046 - final_cls: 0.6576 - final_regr: 0.2934\n",
    "  \n",
    "  2/240 [..............................] - ETA: 3:14:11 - rpn_cls: 4.8139 - rpn_regr: 0.0054 - final_cls: 0.6524 - final_regr: 0.3444\n",
    "  \n",
    "  3/240 [..............................] - ETA: 3:13:15 - rpn_cls: 3.9228 - rpn_regr: 0.0079 - final_cls: 0.6547 - final_regr: 0.3444\n",
    "  \n",
    "  4/240 [..............................] - ETA: 2:48:33 - rpn_cls: 3.3998 - rpn_regr: 0.0233 - final_cls: 0.6517 - final_regr: 0.3638\n",
    "  \n",
    " ....................................................................................................................\n",
    " \n",
    "233/240 [============================>.] - ETA: 3:03 - rpn_cls: 1.5753 - rpn_regr: 0.1201 - final_cls: 0.6592 - final_regr: 0.3671\n",
    "\n",
    "234/240 [============================>.] - ETA: 2:37 - rpn_cls: 1.5747 - rpn_regr: 0.1202 - final_cls: 0.6591 - final_regr: 0.3670\n",
    "\n",
    "235/240 [============================>.] - ETA: 2:11 - rpn_cls: 1.5741 - rpn_regr: 0.1203 - final_cls: 0.6590 - final_regr: 0.3669\n",
    "\n",
    "236/240 [============================>.] - ETA: 1:44 - rpn_cls: 1.5734 - rpn_regr: 0.1204 - final_cls: 0.6589 - final_regr: 0.3668\n",
    "\n",
    "237/240 [============================>.] - ETA: 1:18 - rpn_cls: 1.5727 - rpn_regr: 0.1205 - final_cls: 0.6587 - final_regr: 0.3667\n",
    "\n",
    "238/240 [============================>.] - ETA: 52s - rpn_cls: 1.5720 - rpn_regr: 0.1206 - final_cls: 0.6586 - final_regr: 0.3666 \n",
    "\n",
    "239/240 [============================>.] - ETA: 26s - rpn_cls: 1.5714 - rpn_regr: 0.1207 - final_cls: 0.6585 - final_regr: 0.3665\n",
    "\n",
    "240/240 [==============================] - 6290s 26s/step - rpn_cls: 1.5709 - rpn_regr: 0.1208 - final_cls: 0.6584 - final_regr: 0.3664\n",
    "\n",
    "Mean number of bounding boxes from RPN overlapping ground truth boxes: 8.233576642335766\n",
    "\n",
    "Classifier accuracy for bounding boxes from RPN: 0.659375\n",
    "\n",
    "Loss RPN classifier: 1.4470328311946452\n",
    "\n",
    "Loss RPN regression: 0.14573439276233938\n",
    "\n",
    "Loss Detector classifier: 0.6348724449053407\n",
    "\n",
    "Loss Detector regression: 0.3414413255949815\n",
    "\n",
    "Total loss: 2.569080994457307\n",
    "\n",
    "Elapsed time: 6289.936763763428\n",
    "\n",
    "Total loss decreased from 3.69 to 2.569080994457307, saving model.\n",
    "\n",
    "Training complete, exiting.\n",
    "\n",
    "\n",
    "==> As we see i just trained it for 2 epoch .\n",
    "\n",
    "==> The result are promising \n",
    "\n",
    "==> To  have the best result we need to increase  the number of epochs ( default=2000)"
   ]
  },
  {
   "cell_type": "markdown",
   "metadata": {},
   "source": [
    "# Data Evaluation\n",
    "Previous evaluation steps dealt with factors such as the accuracy and generality of the\n",
    "model. This step assesses the degree to which the model meets the business objectives and\n",
    "seeks to determine if there is some business reason why this model is deficient. Another option\n",
    "is to test the model(s) on test applications in the real application, if time and budget constraints\n",
    "permit. Moreover, evaluation also assesses other data mining results generated. Data mining\n",
    "results involve models that are necessarily related to the original business objectives and all\n",
    "other findings that are not necessarily related to the original business objectives, but might\n",
    "also unveil additional challenges, information, or hints for future directions.\n",
    "\n",
    "## Output\n",
    "Assessment of data mining results – summarise assessment results in terms of business\n",
    "success criteria, including a final statement regarding whether the project already meets the\n",
    "initial business objectives.\n",
    "## Approved models \n",
    "– after assessing models with respect to business success criteria, the\n",
    "generated models that meet the selected criteria become the approved models."
   ]
  },
  {
   "cell_type": "markdown",
   "metadata": {},
   "source": [
    " # Script for Test work V2"
   ]
  },
  {
   "cell_type": "code",
   "execution_count": 1,
   "metadata": {},
   "outputs": [
    {
     "name": "stdout",
     "output_type": "stream",
     "text": [
      "{0: 'Noface', 1: 'face'}\n",
      "148301_1912-11-20_2004.jpg\n",
      "Elapsed time = 21.963258981704712\n",
      "[]\n",
      "772901_1979-01-18_2010.jpg\n",
      "Elapsed time = 15.701237440109253\n",
      "[]\n",
      "40711601_1945-01-28_1985.jpg\n",
      "Elapsed time = 18.642032861709595\n",
      "[]\n",
      "41631201_1992-03-31_2014.jpg\n",
      "Elapsed time = 15.803828001022339\n",
      "[]\n",
      "1180501_1930-09-29_2013.jpg\n",
      "Elapsed time = 16.075231075286865\n",
      "[]\n"
     ]
    },
    {
     "name": "stderr",
     "output_type": "stream",
     "text": [
      "2020-07-12 10:57:59.154782: I tensorflow/stream_executor/platform/default/dso_loader.cc:44] Successfully opened dynamic library cudart64_101.dll\n",
      "2020-07-12 10:58:14.006008: W tensorflow/stream_executor/platform/default/dso_loader.cc:55] Could not load dynamic library 'nvcuda.dll'; dlerror: nvcuda.dll not found\n",
      "2020-07-12 10:58:14.006008: E tensorflow/stream_executor/cuda/cuda_driver.cc:313] failed call to cuInit: UNKNOWN ERROR (303)\n",
      "2020-07-12 10:58:14.006008: I tensorflow/stream_executor/cuda/cuda_diagnostics.cc:169] retrieving CUDA diagnostic information for host: rzouga-PC\n",
      "2020-07-12 10:58:14.021608: I tensorflow/stream_executor/cuda/cuda_diagnostics.cc:176] hostname: rzouga-PC\n",
      "2020-07-12 10:58:14.879610: I tensorflow/compiler/xla/service/service.cc:168] XLA service 0x545d920 initialized for platform Host (this does not guarantee that XLA will be used). Devices:\n",
      "2020-07-12 10:58:14.879610: I tensorflow/compiler/xla/service/service.cc:176]   StreamExecutor device (0): Host, Default Version\n",
      "Using TensorFlow backend.\n"
     ]
    }
   ],
   "source": [
    "!python C:/Users/rzouga/Downloads/Github/CNN_CV/Face_Recognition_Fast_rcnn/TrainFacialRecognitonModel/work/work_V2/Test_Frcnn.py"
   ]
  }
 ],
 "metadata": {
  "kernelspec": {
   "display_name": "Python 3",
   "language": "python",
   "name": "python3"
  },
  "language_info": {
   "codemirror_mode": {
    "name": "ipython",
    "version": 3
   },
   "file_extension": ".py",
   "mimetype": "text/x-python",
   "name": "python",
   "nbconvert_exporter": "python",
   "pygments_lexer": "ipython3",
   "version": "3.7.6"
  }
 },
 "nbformat": 4,
 "nbformat_minor": 4
}
