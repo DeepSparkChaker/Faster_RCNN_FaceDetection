{
 "cells": [
  {
   "cell_type": "markdown",
   "metadata": {},
   "source": [
    "\n",
    "# Deployment\n",
    "\n",
    "Deployment is where data mining pays off. In this final phase of the Cross-Industry Standard\n",
    "Process for Data Mining (CRISP-DM) process, it doesn’t matter how brilliant your discoveries\n",
    "may be, or how perfectly your models fit the data, if you don’t actually use those things to\n",
    "improve the way that you do business."
   ]
  },
  {
   "cell_type": "markdown",
   "metadata": {},
   "source": [
    "# Script for image"
   ]
  },
  {
   "cell_type": "code",
   "execution_count": 10,
   "metadata": {
    "scrolled": false
   },
   "outputs": [
    {
     "name": "stdout",
     "output_type": "stream",
     "text": [
      "{1: 'Noface', 0: 'face'}"
     ]
    },
    {
     "name": "stderr",
     "output_type": "stream",
     "text": [
      "2020-07-13 01:05:05.029435: I tensorflow/stream_executor/platform/default/dso_loader.cc:44] Successfully opened dynamic library cudart64_101.dll\n",
      "2020-07-13 01:05:17.337857: W tensorflow/stream_executor/platform/default/dso_loader.cc:55] Could not load dynamic library 'nvcuda.dll'; dlerror: nvcuda.dll not found\n",
      "2020-07-13 01:05:17.353457: E tensorflow/stream_executor/cuda/cuda_driver.cc:313] failed call to cuInit: UNKNOWN ERROR (303)\n",
      "2020-07-13 01:05:17.353457: I tensorflow/stream_executor/cuda/cuda_diagnostics.cc:169] retrieving CUDA diagnostic information for host: rzouga-PC\n",
      "2020-07-13 01:05:17.353457: I tensorflow/stream_executor/cuda/cuda_diagnostics.cc:176] hostname: rzouga-PC\n",
      "2020-07-13 01:05:17.400257: I tensorflow/compiler/xla/service/service.cc:168] XLA service 0x5c65cd0 initialized for platform Host (this does not guarantee that XLA will be used). Devices:\n",
      "2020-07-13 01:05:17.400257: I tensorflow/compiler/xla/service/service.cc:176]   StreamExecutor device (0): Host, Default Version\n",
      "Using TensorFlow backend.\n"
     ]
    },
    {
     "name": "stdout",
     "output_type": "stream",
     "text": [
      "\n",
      "576302_1942-02-24_1967.jpg\n",
      "Elapsed time = 29.733652353286743\n",
      "[('face', 55.798059701919556)]\n",
      "8790002_1983-08-23_2006.jpg\n",
      "Elapsed time = 24.195642471313477\n",
      "[('face', 51.21188759803772)]\n",
      "14372802_1920-08-05_1957.jpg\n",
      "Elapsed time = 23.8680419921875\n",
      "[('face', 61.85958981513977), ('face', 54.694533348083496)]\n",
      "14546202_1902-08-19_1954.jpg\n",
      "Elapsed time = 24.304842948913574\n",
      "[('face', 55.70889711380005)]\n",
      "12176602_1941-11-20_2014.jpg\n",
      "Elapsed time = 24.726043224334717\n",
      "[]\n"
     ]
    }
   ],
   "source": [
    "!python C:/Users/rzouga/Downloads/Github/CNN_CV/Face_Recognition_Fast_rcnn/TrainFacialRecognitonModel/work/work_V2/Test_Frcnn.py"
   ]
  },
  {
   "cell_type": "markdown",
   "metadata": {},
   "source": [
    "# Demo script to test the model on webcam"
   ]
  },
  {
   "cell_type": "code",
   "execution_count": null,
   "metadata": {},
   "outputs": [],
   "source": [
    "# Import libraries\n",
    "import os\n",
    "import cv2\n",
    "import time\n",
    "import keras\n",
    "import random\n",
    "import numpy as np\n",
    "import matplotlib.pyplot as plt\n",
    "import Chaka_Faster_rcnn.common as common\n",
    "import Chaka_Faster_rcnn.Vgg as mb\n",
    "\n",
    "# Create configuration\n",
    "config = common.Config()\n",
    "config.model_path = 'C:/Users/rzouga/Downloads/Github/CNN_CV/Face_Recognition_Fast_rcnn/TrainFacialRecognitonModel/work/work_V2/training_model.h5'\n",
    "config.use_horizontal_flips = False\n",
    "config.use_vertical_flips = False\n",
    "config.rot_90 = False\n",
    "config.num_rois = 4\n",
    "\n",
    "# Set the gpu to use\n",
    "common.setup_gpu('cpu')\n",
    "#common.setup_gpu(0)\n",
    "\n",
    "# Create a dictionary with classes and switch key values\n",
    "classes = {'Noface': 0, 'face': 1}\n",
    "mappings = {v: k for k, v in classes.items()}\n",
    "class_to_color = {mappings[v]: np.random.randint(0, 255, 3) for v in mappings}\n",
    "print(mappings)\n",
    "\n",
    "# Get inference models\n",
    "model_rpn, model_classifier, model_classifier_only = mb.get_inference_models(config, len(classes), weights_path=config.model_path)\n",
    "\n",
    "\n",
    "# in this ligne we must use our pretrained model for face detection or other buissness tasks due to luck of time and bugs i haven't complete this part correctly \n",
    "#face_clsfr=cv2.CascadeClassifier('C:/Users/rzouga/Downloads/Github/CNN_CV/Computer-Vision-master/Computer-Vision-master/FaceMask_detection/haarcascade_frontalface_default.xml')\n",
    "#If the box classification value is less than this, we ignore this box\n",
    "#must return to 0.7\n",
    "bbox_threshold = 0.3\n",
    "cap=cv2.VideoCapture(0)\n",
    "\n",
    "\n",
    "\n",
    "color_dict={0:(0,255,0),1:(0,0,255)}\n",
    "  \n",
    "\n",
    "while(True):\n",
    "\n",
    "    ret,frame=cap.read()\n",
    "    img=cv2.cvtColor(frame,cv2.COLOR_BGR2GRAY)\n",
    "    #faces=face_clsfr.detectMultiScale(gray,1.3,5)  \n",
    "    st = time.time()\n",
    "    # Format the image\n",
    "    X, ratio = common.format_img(img, config)\n",
    "    X = np.transpose(X, (0, 2, 3, 1))\n",
    "\n",
    "    # Get output layer Y1, Y2 from the RPN and the feature maps F\n",
    "    # Y1: y_rpn_cls\n",
    "    # Y2: y_rpn_regr\n",
    "    [Y1, Y2, F] = model_rpn.predict(X)\n",
    "\n",
    "    # Get bboxes by applying NMS \n",
    "    # R.shape = (300, 4)\n",
    "    R = layers.rpn_to_roi(Y1, Y2, config, keras.backend.image_data_format(), overlap_thresh=0.7)\n",
    "\n",
    "    # Convert from (x1,y1,x2,y2) to (x,y,w,h)\n",
    "    R[:, 2] -= R[:, 0]\n",
    "    R[:, 3] -= R[:, 1]\n",
    "\n",
    "    # Apply the spatial pyramid pooling to the proposed regions\n",
    "    bboxes = {}\n",
    "    probs = {}\n",
    "\n",
    "    for jk in range(R.shape[0]//config.num_rois + 1):\n",
    "        ROIs = np.expand_dims(R[config.num_rois*jk:config.num_rois*(jk+1), :], axis=0)\n",
    "        if ROIs.shape[1] == 0:\n",
    "            break\n",
    "\n",
    "        if jk == R.shape[0]//config.num_rois:\n",
    "            #pad R\n",
    "            curr_shape = ROIs.shape\n",
    "            target_shape = (curr_shape[0],config.num_rois,curr_shape[2])\n",
    "            ROIs_padded = np.zeros(target_shape).astype(ROIs.dtype)\n",
    "            ROIs_padded[:, :curr_shape[1], :] = ROIs\n",
    "            ROIs_padded[0, curr_shape[1]:, :] = ROIs[0, 0, :]\n",
    "            ROIs = ROIs_padded\n",
    "\n",
    "        [P_cls, P_regr] = model_classifier_only.predict([F, ROIs])\n",
    "\n",
    "        # Calculate bboxes coordinates on resized image\n",
    "        for ii in range(P_cls.shape[1]):\n",
    "            # Ignore 'bg' class\n",
    "            if np.max(P_cls[0, ii, :]) < bbox_threshold or np.argmax(P_cls[0, ii, :]) == (P_cls.shape[2] - 1):\n",
    "                continue\n",
    "\n",
    "            # Get the class name\n",
    "            cls_name = mappings[np.argmax(P_cls[0, ii, :])]\n",
    "\n",
    "            if cls_name not in bboxes:\n",
    "                bboxes[cls_name] = []\n",
    "                probs[cls_name] = []\n",
    "\n",
    "            (x, y, w, h) = ROIs[0, ii, :]\n",
    "\n",
    "            cls_num = np.argmax(P_cls[0, ii, :])\n",
    "            try:\n",
    "                (tx, ty, tw, th) = P_regr[0, ii, 4*cls_num:4*(cls_num+1)]\n",
    "                tx /= C.classifier_regr_std[0]\n",
    "                ty /= C.classifier_regr_std[1]\n",
    "                tw /= C.classifier_regr_std[2]\n",
    "                th /= C.classifier_regr_std[3]\n",
    "                x, y, w, h = layers.apply_regr(x, y, w, h, tx, ty, tw, th)\n",
    "            except:\n",
    "                pass\n",
    "            bboxes[cls_name].append([config.rpn_stride*x, config.rpn_stride*y, config.rpn_stride*(x+w), config.rpn_stride*(y+h)])\n",
    "            probs[cls_name].append(np.max(P_cls[0, ii, :]))\n",
    "\n",
    "    all_dets = []\n",
    "\n",
    "    for key in bboxes:\n",
    "        bbox = np.array(bboxes[key])\n",
    "\n",
    "        new_boxes, new_probs = common.non_max_suppression_fast(bbox, np.array(probs[key]), overlap_thresh=0.2)\n",
    "        for jk in range(new_boxes.shape[0]):\n",
    "            (x1, y1, x2, y2) = new_boxes[jk,:]\n",
    "\n",
    "            # Calculate real coordinates on original image\n",
    "            (real_x1, real_y1, real_x2, real_y2) = common.get_real_coordinates(ratio, x1, y1, x2, y2)\n",
    "\n",
    "            cv2.rectangle(img,(real_x1, real_y1), (real_x2, real_y2), (int(class_to_color[key][0]), int(class_to_color[key][1]), int(class_to_color[key][2])),4)\n",
    "\n",
    "            textLabel = '{0}: {1}'.format(key,int(100*new_probs[jk]))\n",
    "            all_dets.append((key,100*new_probs[jk]))\n",
    "\n",
    "            (retval,baseLine) = cv2.getTextSize(textLabel,cv2.FONT_HERSHEY_COMPLEX,1,1)\n",
    "            textOrg = (real_x1, real_y1-0)\n",
    "\n",
    "            cv2.rectangle(img, (textOrg[0] - 5, textOrg[1]+baseLine - 5), (textOrg[0]+retval[0] + 5, textOrg[1]-retval[1] - 5), (0, 0, 0), 1)\n",
    "            cv2.rectangle(img, (textOrg[0] - 5,textOrg[1]+baseLine - 5), (textOrg[0]+retval[0] + 5, textOrg[1]-retval[1] - 5), (255, 255, 255), -1)\n",
    "            cv2.putText(img, textLabel, textOrg, cv2.FONT_HERSHEY_DUPLEX, 1, (0, 0, 0), 1)\n",
    "\n",
    "    print('Elapsed time = {0}'.format(time.time() - st))\n",
    "    print(all_dets)\n",
    "        \n",
    "        \n",
    "        \n",
    "    cv2.imshow('Face Detection App',frame)\n",
    "    if cv2.waitKey(1) & 0xFF == ord('q'):\n",
    "        break\n",
    "cap.release()\n",
    "cv2.destroyAllWindows()"
   ]
  },
  {
   "cell_type": "markdown",
   "metadata": {},
   "source": [
    "# Script"
   ]
  },
  {
   "cell_type": "code",
   "execution_count": 15,
   "metadata": {},
   "outputs": [
    {
     "name": "stdout",
     "output_type": "stream",
     "text": [
      "^C\n"
     ]
    }
   ],
   "source": [
    "!python C:/Users/rzouga/Downloads/Github/CNN_CV/Face_Recognition_Fast_rcnn/TrainFacialRecognitonModel/work/work_V2/DeployCam.py"
   ]
  }
 ],
 "metadata": {
  "kernelspec": {
   "display_name": "Python 3",
   "language": "python",
   "name": "python3"
  },
  "language_info": {
   "codemirror_mode": {
    "name": "ipython",
    "version": 3
   },
   "file_extension": ".py",
   "mimetype": "text/x-python",
   "name": "python",
   "nbconvert_exporter": "python",
   "pygments_lexer": "ipython3",
   "version": "3.7.6"
  }
 },
 "nbformat": 4,
 "nbformat_minor": 4
}
